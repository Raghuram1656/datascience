{
 "cells": [
  {
   "cell_type": "code",
   "execution_count": 54,
   "metadata": {
    "collapsed": true
   },
   "outputs": [],
   "source": [
    "import PyPDF2,pdf2image,shutil,os,tempfile\n",
    "from pdf2image import convert_from_path, convert_from_bytes"
   ]
  },
  {
   "cell_type": "code",
   "execution_count": 55,
   "metadata": {
    "collapsed": false
   },
   "outputs": [],
   "source": [
    "#Read, Split and Convert Inpupt Pdf \n",
    "#1. split into individual pdfs as per no_of_pages\n",
    "#2. Convert from pdf to jpg\n",
    "#3. delete pdfs and retain only jpg(s)\n",
    "\n",
    "\n",
    "#1. split into individual pdfs as per no_of_pages:\n",
    "\n",
    "def Split_file(pdf_path):\n",
    "#     pdf  = input_dir+'/'+file_name\n",
    "    pdf  = pdf_path\n",
    "    pdfFileObj = open(pdf, 'rb')\n",
    "    # creating a pdf reader object \n",
    "    pdfReader = PyPDF2.PdfFileReader(pdfFileObj)\n",
    "    #  number of pages in pdf file \n",
    "    no_of_pages  = (pdfReader.numPages)\n",
    "    # loop through the no of pages\n",
    "    for page_no in range(0,no_of_pages):\n",
    "        # creating pdf writer object for (i+1)th split \n",
    "        pdfWriter = PyPDF2.PdfFileWriter() \n",
    "        # output pdf file name \n",
    "        outputpdf = pdf.split('_')[0] +'_' +str(page_no)+'_'+pdf.split('_')[1] \n",
    "        # print(outputpdf)\n",
    "        # adding pages to pdf writer object \n",
    "        pdfWriter.addPage(pdfReader.getPage(page_no)) \n",
    "        # writing split pdf pages to pdf file \n",
    "        with open(outputpdf, \"wb\") as f: \n",
    "            pdfWriter.write(f) \n",
    "        # closing the input pdf file object \n",
    "    pdfFileObj.close() \n",
    "    os.remove(pdf_path)\n",
    "\n",
    "    \n",
    "#2. Convert from pdf to jpg\n",
    "def Convert_Pdf(pdf_dir):\n",
    "    os.chdir(pdf_dir)\n",
    "    for pdf_file in os.listdir(pdf_dir):     \n",
    "        if pdf_file.endswith(\".pdf\"):\n",
    "            pages = convert_from_path(pdf_file)\n",
    "            pdf_file = pdf_file[:-4]\n",
    "            for page in pages:\n",
    "                page.save(\"%s-page%d.jpg\" % (pdf_file,pages.index(page)), \"JPEG\")\n",
    "\n",
    "            \n",
    "#3. delete pdfs and retain only jpg(s)\n",
    "def Delete_Pdf(pdf_dir):\n",
    "    os.chdir(pdf_dir)\n",
    "    file_dir = pdf_dir\n",
    "    for file_name in os.listdir(file_dir):\n",
    "        if file_name.endswith(\".pdf\"):\n",
    "            os.remove(file_dir+'/'+file_name)       \n",
    "    "
   ]
  },
  {
   "cell_type": "code",
   "execution_count": 56,
   "metadata": {
    "collapsed": false
   },
   "outputs": [],
   "source": [
    "if __name__ == \"__main__\":\n",
    "    pdf_path = 'C:/Users/susarlas/Desktop/pdftest/100_CITX.pdf'\n",
    "    pdf_dir  = 'C:/Users/susarlas/Desktop/pdftest'\n",
    "    Split_file(pdf_path)\n",
    "    Convert_Pdf(pdf_dir)\n",
    "    Delete_Pdf(pdf_dir)\n"
   ]
  }
 ],
 "metadata": {
  "anaconda-cloud": {},
  "kernelspec": {
   "display_name": "Python [conda env:Anaconda3]",
   "language": "python",
   "name": "conda-env-Anaconda3-py"
  },
  "language_info": {
   "codemirror_mode": {
    "name": "ipython",
    "version": 3
   },
   "file_extension": ".py",
   "mimetype": "text/x-python",
   "name": "python",
   "nbconvert_exporter": "python",
   "pygments_lexer": "ipython3",
   "version": "3.5.5"
  }
 },
 "nbformat": 4,
 "nbformat_minor": 1
}
