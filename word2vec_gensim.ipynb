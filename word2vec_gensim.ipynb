{
 "cells": [
  {
   "cell_type": "markdown",
   "metadata": {},
   "source": [
    "Run this to install gensim: **pip install gensim**\n",
    "\n",
    "Download the data from here: \"http://mattmahoney.net/dc/text8.zip\""
   ]
  },
  {
   "cell_type": "code",
   "execution_count": 2,
   "metadata": {
    "collapsed": true
   },
   "outputs": [],
   "source": [
    "from gensim.models import word2vec\n",
    "from gensim.models.word2vec import Text8Corpus"
   ]
  },
  {
   "cell_type": "code",
   "execution_count": 3,
   "metadata": {
    "collapsed": true
   },
   "outputs": [],
   "source": [
    "sentences = word2vec.Text8Corpus('text8')\n",
    "model = word2vec.Word2Vec(sentences, size=200)"
   ]
  },
  {
   "cell_type": "code",
   "execution_count": 5,
   "metadata": {
    "collapsed": false
   },
   "outputs": [
    {
     "data": {
      "text/plain": [
       "array([ 6.81950629e-01,  2.21134186e-01,  1.67988017e-01,  1.83450985e+00,\n",
       "       -1.09047544e+00,  1.28080165e+00, -1.20242453e+00, -7.00591087e-01,\n",
       "       -2.24694178e-01, -2.20271850e+00, -1.05551682e-01,  2.93004322e+00,\n",
       "        6.07730985e-01,  9.71379340e-01,  1.65286697e-02, -2.16881585e+00,\n",
       "        1.08803928e+00, -1.87827170e+00, -1.81813562e+00,  1.22533894e+00,\n",
       "        2.14646649e+00, -3.46137553e-01,  1.50281084e+00, -2.06848860e+00,\n",
       "       -2.94904321e-01,  1.67241740e+00, -1.74000263e+00,  1.01930010e+00,\n",
       "       -2.26174760e+00, -3.85381520e-01,  5.30802429e-01,  3.54773223e-01,\n",
       "       -8.90080333e-01,  2.91555703e-01,  6.64431095e-01, -1.47770429e+00,\n",
       "        3.48970413e+00, -7.09524572e-01, -9.12312150e-01, -7.83335745e-01,\n",
       "        1.70666188e-01,  1.04570127e+00, -1.41531575e+00, -2.07229421e-01,\n",
       "        1.81227374e+00, -8.46450388e-01,  4.35743392e-01,  1.05917798e-02,\n",
       "        4.66877878e-01, -1.95316589e+00, -1.36346722e+00, -2.17421007e+00,\n",
       "       -6.16388023e-01, -3.58039916e-01,  3.01580846e-01,  1.98134947e+00,\n",
       "       -7.06303939e-02, -1.12140501e+00,  5.14110386e-01, -2.15571237e+00,\n",
       "       -2.19799209e+00, -1.91286576e+00, -5.18685095e-02,  1.65776038e+00,\n",
       "       -2.15044260e+00,  2.56221151e+00, -3.99867564e-01, -6.61499560e-01,\n",
       "        2.07070589e+00, -2.73310090e-03, -1.09090221e+00, -1.44185781e+00,\n",
       "        5.90565614e-03,  5.71390986e-01, -3.20772141e-01, -1.81456983e+00,\n",
       "        9.73950744e-01,  8.35940838e-01, -7.95949221e-01,  5.68249106e-01,\n",
       "       -4.69448745e-01, -7.27455020e-01, -5.41297972e-01, -1.29682600e+00,\n",
       "       -5.39305985e-01,  1.11862993e+00,  8.44066918e-01, -1.86412036e+00,\n",
       "       -1.34374499e+00,  7.57771790e-01, -7.81666398e-01, -7.67913103e-01,\n",
       "        1.23739946e+00, -1.16925025e+00,  1.13792574e+00,  8.73829782e-01,\n",
       "       -2.44002438e+00, -2.37083107e-01,  1.98668316e-01,  6.45575583e-01,\n",
       "        5.21594048e-01, -2.03356147e+00,  8.96527395e-02, -1.79616153e+00,\n",
       "        2.07047248e+00, -1.99053213e-01,  1.33187139e+00,  7.36392617e-01,\n",
       "       -7.03369141e-01, -3.77443314e-01, -2.61783051e+00, -7.25859046e-01,\n",
       "        5.44361651e-01,  1.06040752e+00, -6.05004251e-01, -8.66626680e-01,\n",
       "       -3.44693691e-01,  1.19380462e+00,  1.73528409e+00,  4.93170619e-01,\n",
       "       -1.48754597e-01,  1.50014436e+00, -5.60094595e-01,  8.79068673e-01,\n",
       "        8.93544018e-01, -1.31343031e+00,  9.75843593e-02,  1.01719216e-01,\n",
       "       -6.29458502e-02, -1.76763192e-01, -4.21125501e-01,  5.59753418e-01,\n",
       "        9.59425867e-02,  4.90847081e-01, -6.25215769e-01, -2.26027146e-01,\n",
       "       -6.45123005e-01, -8.79448295e-01,  2.82602042e-01,  5.80455124e-01,\n",
       "       -1.07198820e-01, -2.04176641e+00,  7.52637923e-01,  1.38340831e+00,\n",
       "        8.24887812e-01,  1.77767265e+00, -3.20938051e-01,  8.31967235e-01,\n",
       "       -8.78352046e-01,  1.61022210e+00,  4.44431424e-01,  8.09444904e-01,\n",
       "       -1.15884471e+00, -1.23453808e+00,  1.99959826e+00, -1.59893870e+00,\n",
       "        7.15604722e-01,  7.54811823e-01,  2.80427027e+00,  1.80871621e-01,\n",
       "        6.05531693e-01, -8.07200253e-01, -2.26085806e+00,  6.69695914e-01,\n",
       "       -6.58851087e-01,  5.56489468e-01, -8.35788190e-01,  1.51435363e+00,\n",
       "        1.54941523e+00,  1.52623206e-01,  1.92455426e-01, -2.78475308e+00,\n",
       "        1.92987144e+00, -3.02014142e-01,  7.59640694e-01,  1.46462515e-01,\n",
       "        7.72444010e-01,  2.04753250e-01, -1.57414544e+00,  1.84038901e+00,\n",
       "        1.31788090e-01, -1.96973030e-02, -1.05052984e+00, -8.07951093e-01,\n",
       "       -4.69538718e-01, -1.49220020e-01,  2.80464619e-01, -5.56373775e-01,\n",
       "        2.28163671e+00, -6.09108806e-01, -3.73055711e-02, -1.87893236e+00,\n",
       "        3.79701138e-01, -8.30439806e-01,  2.51529738e-02, -1.32067168e+00,\n",
       "        1.74419808e+00,  1.63796318e+00, -3.81265849e-01, -4.20951873e-01],\n",
       "      dtype=float32)"
      ]
     },
     "execution_count": 5,
     "metadata": {},
     "output_type": "execute_result"
    }
   ],
   "source": [
    "model.wv['computer']"
   ]
  },
  {
   "cell_type": "code",
   "execution_count": 6,
   "metadata": {
    "collapsed": false
   },
   "outputs": [
    {
     "name": "stderr",
     "output_type": "stream",
     "text": [
      "/nfsroot/data/home/vivekb/.local/lib/python2.7/site-packages/ipykernel_launcher.py:1: DeprecationWarning: Call to deprecated `most_similar` (Method will be removed in 4.0.0, use self.wv.most_similar() instead).\n",
      "  \"\"\"Entry point for launching an IPython kernel.\n"
     ]
    },
    {
     "data": {
      "text/plain": [
       "[(u'queen', 0.6459274291992188),\n",
       " (u'princess', 0.5883325338363647),\n",
       " (u'throne', 0.5735251903533936),\n",
       " (u'prince', 0.5511806607246399),\n",
       " (u'elizabeth', 0.5465965867042542)]"
      ]
     },
     "execution_count": 6,
     "metadata": {},
     "output_type": "execute_result"
    }
   ],
   "source": [
    "model.most_similar(positive=['woman', 'king'], negative=['man'], topn=5)"
   ]
  },
  {
   "cell_type": "code",
   "execution_count": 10,
   "metadata": {
    "collapsed": false
   },
   "outputs": [
    {
     "name": "stderr",
     "output_type": "stream",
     "text": [
      "/nfsroot/data/home/vivekb/.local/lib/python2.7/site-packages/ipykernel_launcher.py:1: DeprecationWarning: Call to deprecated `most_similar` (Method will be removed in 4.0.0, use self.wv.most_similar() instead).\n",
      "  \"\"\"Entry point for launching an IPython kernel.\n"
     ]
    },
    {
     "data": {
      "text/plain": [
       "[(u'queen', 0.6484881639480591), (u'throne', 0.5739718675613403)]"
      ]
     },
     "execution_count": 10,
     "metadata": {},
     "output_type": "execute_result"
    }
   ],
   "source": [
    "model.most_similar(positive=['woman', 'king'], negative=['man'], topn=2)"
   ]
  },
  {
   "cell_type": "code",
   "execution_count": 11,
   "metadata": {
    "collapsed": false
   },
   "outputs": [
    {
     "name": "stderr",
     "output_type": "stream",
     "text": [
      "/nfsroot/data/home/vivekb/.local/lib/python2.7/site-packages/ipykernel_launcher.py:1: DeprecationWarning: Call to deprecated `most_similar` (Method will be removed in 4.0.0, use self.wv.most_similar() instead).\n",
      "  \"\"\"Entry point for launching an IPython kernel.\n"
     ]
    },
    {
     "data": {
      "text/plain": [
       "[(u'mother', 0.7459666728973389),\n",
       " (u'wife', 0.7025295495986938),\n",
       " (u'grandmother', 0.6859577894210815)]"
      ]
     },
     "execution_count": 11,
     "metadata": {},
     "output_type": "execute_result"
    }
   ],
   "source": [
    "model.most_similar(['girl', 'father'], ['boy'], topn=3)"
   ]
  },
  {
   "cell_type": "code",
   "execution_count": 12,
   "metadata": {
    "collapsed": false
   },
   "outputs": [
    {
     "name": "stderr",
     "output_type": "stream",
     "text": [
      "/nfsroot/data/home/vivekb/.local/lib/python2.7/site-packages/ipykernel_launcher.py:1: DeprecationWarning: Call to deprecated `most_similar` (Method will be removed in 4.0.0, use self.wv.most_similar() instead).\n",
      "  \"\"\"Entry point for launching an IPython kernel.\n"
     ]
    },
    {
     "data": {
      "text/plain": [
       "[(u'woman', 0.6820981502532959),\n",
       " (u'girl', 0.602423906326294),\n",
       " (u'creature', 0.5727561712265015),\n",
       " (u'boy', 0.5240100622177124),\n",
       " (u'person', 0.520226240158081),\n",
       " (u'evil', 0.5006163120269775),\n",
       " (u'stranger', 0.49936848878860474),\n",
       " (u'god', 0.4967189431190491),\n",
       " (u'gentleman', 0.4925686717033386),\n",
       " (u'bride', 0.4867822527885437)]"
      ]
     },
     "execution_count": 12,
     "metadata": {},
     "output_type": "execute_result"
    }
   ],
   "source": [
    "model.most_similar(['man'])"
   ]
  },
  {
   "cell_type": "code",
   "execution_count": 13,
   "metadata": {
    "collapsed": false
   },
   "outputs": [
    {
     "data": {
      "text/plain": [
       "'cereal'"
      ]
     },
     "execution_count": 13,
     "metadata": {},
     "output_type": "execute_result"
    }
   ],
   "source": [
    "model.wv.doesnt_match(\"breakfast cereal dinner lunch\".split())"
   ]
  },
  {
   "cell_type": "code",
   "execution_count": 14,
   "metadata": {
    "collapsed": false
   },
   "outputs": [
    {
     "data": {
      "text/plain": [
       "0.68209818107840681"
      ]
     },
     "execution_count": 14,
     "metadata": {},
     "output_type": "execute_result"
    }
   ],
   "source": [
    "model.wv.similarity('woman', 'man')"
   ]
  },
  {
   "cell_type": "code",
   "execution_count": null,
   "metadata": {
    "collapsed": true
   },
   "outputs": [],
   "source": []
  }
 ],
 "metadata": {
  "anaconda-cloud": {},
  "kernelspec": {
   "display_name": "Python [default]",
   "language": "python",
   "name": "python3"
  },
  "language_info": {
   "codemirror_mode": {
    "name": "ipython",
    "version": 3
   },
   "file_extension": ".py",
   "mimetype": "text/x-python",
   "name": "python",
   "nbconvert_exporter": "python",
   "pygments_lexer": "ipython3",
   "version": "3.5.5"
  }
 },
 "nbformat": 4,
 "nbformat_minor": 2
}
