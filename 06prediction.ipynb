{
 "cells": [
  {
   "cell_type": "code",
   "execution_count": 1,
   "metadata": {
    "collapsed": false
   },
   "outputs": [
    {
     "name": "stderr",
     "output_type": "stream",
     "text": [
      "Using TensorFlow backend.\n"
     ]
    }
   ],
   "source": [
    "# importing required libraries to load a model\n",
    "\n",
    "import numpy as np\n",
    "\n",
    "import pandas as pd\n",
    "import tensorflow as tf    \n",
    "import matplotlib.pyplot as plt\n",
    "\n",
    "# %matplotlib inline\n",
    "import matplotlib.image as mpimg\n",
    "import os\n",
    "import random\n",
    "from pathlib import Path\n",
    "\n",
    "import keras\n",
    "from keras import Sequential,layers\n",
    "from keras.layers  import Dense,Dropout,Conv2D,MaxPooling2D,Flatten,GlobalAveragePooling2D\n",
    "from keras.callbacks import EarlyStopping, ModelCheckpoint\n",
    "from keras.activations import relu,softmax\n",
    "from keras.preprocessing.image import ImageDataGenerator\n",
    "from keras import backend as K\n",
    "from keras.optimizers import SGD, Adam\n",
    "from keras.models import load_model\n",
    "\n"
   ]
  },
  {
   "cell_type": "code",
   "execution_count": 28,
   "metadata": {
    "collapsed": false
   },
   "outputs": [
    {
     "name": "stdout",
     "output_type": "stream",
     "text": [
      "[[9.9952054e-01 4.7862547e-04 4.4476142e-15 8.0796504e-08 4.6350097e-09\n",
      "  9.6807140e-10 7.5266144e-07 2.0794891e-10 2.9332659e-10 5.1507868e-08\n",
      "  2.1449467e-10]]\n",
      "[0]\n"
     ]
    }
   ],
   "source": [
    "\n",
    "# Loading model and checking \n",
    "\n",
    "from keras.models import load_model\n",
    "from keras.preprocessing import image\n",
    "import matplotlib.pyplot as plt\n",
    "import numpy as np\n",
    "import os\n",
    "\n",
    "\n",
    "def load_image(img_path, show=False):\n",
    "\n",
    "    img = image.load_img(img_path, target_size=(48, 48))\n",
    "    img_tensor = image.img_to_array(img)                    # (height, width, channels)\n",
    "    img_tensor = np.expand_dims(img_tensor, axis=0)         # (1, height, width, channels), add a dimension because the model expects this shape: (batch_size, height, width, channels)\n",
    "    img_tensor /= 255.                                      # imshow expects values in the range [0, 1]\n",
    "\n",
    "    if show:\n",
    "        plt.imshow(img_tensor[0])                           \n",
    "        plt.axis('off')\n",
    "        plt.show()\n",
    "\n",
    "    return img_tensor\n",
    "\n",
    "\n",
    "if __name__ == \"__main__\":\n",
    "\n",
    "    # load model\n",
    "    model = load_model('C:/Users/susarlas/Desktop/poc/citx/my_model_2.hd5')\n",
    "\n",
    "    # image path  ( to preditct)\n",
    "#     img_path = 'C:/Users/susarlas/Desktop/poc/citx/predict/2.jpg'    \n",
    "    img_path = 'C:/Users/susarlas/Desktop/ondemand/112-page0.jpg'    \n",
    "    \n",
    "    #img_path = '/media/data/dogscats/test1/19.jpg'     \n",
    "\n",
    "    # load a single image\n",
    "    new_image = load_image(img_path)\n",
    "\n",
    "    # check prediction\n",
    "    pred_plain = model.predict(new_image)\n",
    "    pred_classes = model.predict_classes(new_image)\n",
    "    print(pred_plain)\n",
    "    print(pred_classes)\n",
    "    "
   ]
  },
  {
   "cell_type": "code",
   "execution_count": 30,
   "metadata": {
    "collapsed": false
   },
   "outputs": [
    {
     "name": "stdout",
     "output_type": "stream",
     "text": [
      "CITXP0\n"
     ]
    }
   ],
   "source": [
    "import numpy as np\n",
    "class_labels = np.argmax(pred_plain)\n",
    "# print(class_labels.dtype)\n",
    "if (class_labels == 0):\n",
    "    print('CITXP0')\n",
    "elif (class_labels == 1):\n",
    "    print('CITXP1')\n",
    "elif (class_labels == 2):\n",
    "    print('CITXP2')\n",
    "elif (class_labels == 3):\n",
    "    print('CITXP3')\n",
    "elif (class_labels == 4):\n",
    "    print('CITXP4')\n",
    "elif (class_labels == 5):\n",
    "    print('BLANK PAGE')\n",
    "elif (class_labels == 6):\n",
    "    print('EMAIL')\n",
    "elif (class_labels == 7):\n",
    "    print('SALES/USE TAX')\n",
    "elif (class_labels == 8):\n",
    "    print('TRAINING TAX')\n",
    "elif (class_labels == 9):\n",
    "    print('UNKNOWN')\n",
    "elif (class_labels == 10):\n",
    "    print('UTILITY BILL')\n",
    "else:\n",
    "    print('This is not yet trained')\n",
    "    "
   ]
  },
  {
   "cell_type": "code",
   "execution_count": 29,
   "metadata": {
    "collapsed": false
   },
   "outputs": [
    {
     "name": "stdout",
     "output_type": "stream",
     "text": [
      "CITXP0\n"
     ]
    }
   ],
   "source": [
    "import numpy as np\n",
    "if (np.max(pred_plain)) < 0.8:\n",
    "    print(\"this is a new type of image lets feed it to our training in later time\")\n",
    "else:\n",
    "    class_labels = np.argmax(pred_plain)\n",
    "# print(class_labels.dtype)\n",
    "    if (class_labels == 0):\n",
    "        print('CITXP0')  \n",
    "    elif (class_labels == 1):\n",
    "        print('CITXP1')\n",
    "    elif (class_labels == 2):\n",
    "        print('CITXP2')\n",
    "    elif (class_labels == 3):\n",
    "        print('CITXP3')\n",
    "    elif (class_labels == 4):\n",
    "        print('CITXP4')\n",
    "    elif (class_labels == 5):\n",
    "        print('BLANK PAGE')\n",
    "    elif (class_labels == 6):\n",
    "        print('EMAIL')\n",
    "    elif (class_labels == 7):\n",
    "        print('SALES/USE TAX')\n",
    "    elif (class_labels == 8):\n",
    "        print('TRAINING TAX')\n",
    "    elif (class_labels == 9):\n",
    "        print('UNKNOWN')\n",
    "    elif (class_labels == 10):\n",
    "        print('UTILITY BILL')\n",
    "\n",
    "    \n",
    " "
   ]
  },
  {
   "cell_type": "code",
   "execution_count": null,
   "metadata": {
    "collapsed": false
   },
   "outputs": [],
   "source": [
    "from keras.utils import plot_model\n",
    "plot_model(model, to_file='C:/Users/susarlas/Desktop/poc/citx/model.png')"
   ]
  },
  {
   "cell_type": "code",
   "execution_count": 32,
   "metadata": {
    "collapsed": false
   },
   "outputs": [
    {
     "name": "stdout",
     "output_type": "stream",
     "text": [
      "0.99952054\n"
     ]
    }
   ],
   "source": [
    "print(np.max(pred_plain))"
   ]
  },
  {
   "cell_type": "code",
   "execution_count": null,
   "metadata": {
    "collapsed": true
   },
   "outputs": [],
   "source": []
  }
 ],
 "metadata": {
  "anaconda-cloud": {},
  "kernelspec": {
   "display_name": "Python [conda env:Anaconda3]",
   "language": "python",
   "name": "conda-env-Anaconda3-py"
  },
  "language_info": {
   "codemirror_mode": {
    "name": "ipython",
    "version": 3
   },
   "file_extension": ".py",
   "mimetype": "text/x-python",
   "name": "python",
   "nbconvert_exporter": "python",
   "pygments_lexer": "ipython3",
   "version": "3.5.5"
  }
 },
 "nbformat": 4,
 "nbformat_minor": 1
}
