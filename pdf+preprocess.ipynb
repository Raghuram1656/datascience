{
 "cells": [
  {
   "cell_type": "code",
   "execution_count": null,
   "metadata": {
    "collapsed": false
   },
   "outputs": [],
   "source": [
    "import PyPDF2 \n",
    "import pdf2image\n",
    "import shutil\n",
    "import os\n",
    "from pdf2image import convert_from_path, convert_from_bytes\n",
    "import tempfile\n",
    "\n",
    "input_dir = 'C:/Users/susarlas/Desktop/imageDownloads/citx'\n",
    "single_dir = 'C:/Users/susarlas/Desktop/imageDownloads/citx/cit_single'\n",
    "multi_dir  = 'C:/Users/susarlas/Desktop/imageDownloads/citx/cit_multi'\n",
    "temp_dir   = 'C:/Users/susarlas/Desktop/poc/temp'\n",
    "\n",
    "\n",
    "i = 0\n",
    "\n",
    "for file_name in os.listdir(input_dir):\n",
    "# Temp folder to play between\n",
    "    \n",
    "    \n",
    "        # creating a pdf file object \n",
    "    pdf  = input_dir+'/'+file_name\n",
    "    print(pdf)\n",
    "    pdfFileObj = open(pdf, 'rb') \n",
    "# creating a pdf reader object \n",
    "    pdfReader = PyPDF2.PdfFileReader(pdfFileObj) \n",
    "  \n",
    "\n",
    "    no_of_pages  = (pdfReader.numPages) \n",
    "\n",
    "\n",
    "    if no_of_pages > 1:\n",
    "    # move into multi page folder\n",
    "        shutil.copy(pdf, multi_dir)\n",
    "\n",
    "    else:\n",
    "    # move into single page folder\n",
    "        shutil.copy(pdf, single_dir)\n",
    "    \n",
    "             \n",
    "    # closing the input pdf file object \n",
    "pdfFileObj.close()       \n",
    "\n"
   ]
  },
  {
   "cell_type": "code",
   "execution_count": 2,
   "metadata": {
    "collapsed": false
   },
   "outputs": [],
   "source": [
    "\n",
    "## PDF to JPG Converter\n",
    "\n",
    "import os\n",
    "from pdf2image import convert_from_path\n",
    "single_dir = 'C:/Users/susarlas/Desktop/imageDownloads/citx/cit_single'\n",
    "multi_dir = 'C:/Users/susarlas/Desktop/imageDownloads/citx/multi'\n",
    "\n",
    "pdf_dir = multi_dir\n",
    "# pdf_dir = \"C:/Users/susarlas/Desktop/poc/single\"\n",
    "os.chdir(pdf_dir)\n",
    "\n",
    "for pdf_file in os.listdir(pdf_dir):\n",
    "\n",
    "    if pdf_file.endswith(\".pdf\"):\n",
    "\n",
    "        pages = convert_from_path(pdf_file)\n",
    "        pdf_file = pdf_file[:-4]\n",
    "\n",
    "        for page in pages:\n",
    "\n",
    "            page.save(\"%s-page%d.jpg\" % (pdf_file,pages.index(page)), \"JPEG\")\n",
    "\n",
    "     \n",
    "            "
   ]
  },
  {
   "cell_type": "code",
   "execution_count": 2,
   "metadata": {
    "collapsed": false
   },
   "outputs": [],
   "source": [
    "# removing processed pdfs\n",
    "import os\n",
    "single_dir = 'C:/Users/susarlas/Desktop/imageDownloads/citx/cit_single'\n",
    "multi_dir = 'C:/Users/susarlas/Desktop/imageDownloads/citx/multi'\n",
    "file_dir = multi_dir\n",
    "# file_dir = 'C:/Users/susarlas/Desktop/poc/single'\n",
    "for file_name in os.listdir(file_dir):\n",
    "    if file_name.endswith(\".pdf\"):\n",
    "        os.remove(file_dir+'/'+file_name)       "
   ]
  },
  {
   "cell_type": "code",
   "execution_count": null,
   "metadata": {
    "collapsed": false
   },
   "outputs": [],
   "source": [
    "# Dealing with Multi Page pdf\n",
    "\n",
    "# step 1: Split into single Pages and then convert them into jpegs\n",
    "import PyPDF2 \n",
    "import shutil\n",
    "import os\n",
    "\n",
    "\n",
    "multi_dir  = 'C:/Users/susarlas/Desktop/imageDownloads/citx/multi'\n",
    "input_dir  = multi_dir\n",
    "for file_name in os.listdir(input_dir):\n",
    "# creating a pdf file object \n",
    "    print(file_name) \n",
    "    pdf = multi_dir+'/'+file_name\n",
    "    print(pdf)\n",
    "    pdfFileObj = open(pdf, 'rb')  \n",
    "# creating a pdf reader object \n",
    "    pdfReader = PyPDF2.PdfFileReader(pdfFileObj) \n",
    "#  number of pages in pdf file \n",
    "    splits  = (pdfReader.numPages) \n",
    "    print(splits)\n",
    "    for i in range(0,splits):\n",
    "        print(i)\n",
    "        # creating pdf writer object for (i+1)th split \n",
    "        pdfWriter = PyPDF2.PdfFileWriter() \n",
    "        # output pdf file name \n",
    "        outputpdf = pdf.split('_')[0] +'_' +str(i)+'_'+pdf.split('_')[1]\n",
    "#         outputpdf = 'C:/Users/susarlas/Desktop/imageDownloads/citx/cit_multi'\n",
    "        print(outputpdf)\n",
    "        # adding pages to pdf writer object\n",
    "        pdfWriter.addPage(pdfReader.getPage(i)) \n",
    "        # writing split pdf pages to pdf file\n",
    "        with open(outputpdf, \"wb\") as f: \n",
    "            pdfWriter.write(f)\n",
    "            \n",
    "    f.close()\n",
    "    # closing the input pdf file object \n",
    "#     pdfReader.close()\n",
    "    pdfFileObj.close()         \n",
    "        \n",
    "        \n",
    "        \n",
    "        \n",
    "        \n",
    "\n",
    "    \n",
    "    \n"
   ]
  },
  {
   "cell_type": "code",
   "execution_count": null,
   "metadata": {
    "collapsed": false
   },
   "outputs": [],
   "source": [
    "# from scipy.misc import imread, imsave, imresize\n",
    "# f_name = 'C:/Users/susarlas/Desktop/poc/single/1_billinvoice.jpg'\n",
    "# image = imread(f_name)\n",
    "# print(len(image.size()))"
   ]
  },
  {
   "cell_type": "code",
   "execution_count": 2,
   "metadata": {
    "collapsed": false
   },
   "outputs": [
    {
     "name": "stdout",
     "output_type": "stream",
     "text": [
      "C:/Users/susarlas/Desktop/poc/single_temp/utility bill/0_utbill.jpg\n",
      "C:/Users/susarlas/Desktop/poc/single_temp/utility bill/1_utbill.jpg\n",
      "C:/Users/susarlas/Desktop/poc/single_temp/utility bill/2_utbill.jpg\n",
      "C:/Users/susarlas/Desktop/poc/single_temp/utility bill/3_utbill.jpg\n"
     ]
    }
   ],
   "source": [
    "# renaming\n",
    "\n",
    "import os\n",
    "\n",
    "input_dir = 'C:/Users/susarlas/Desktop/poc/single_temp/utility bill'\n",
    "i = 0\n",
    "for file_name in os.listdir(input_dir):\n",
    "    src = input_dir+'/'+file_name\n",
    "    dst = input_dir+'/'+str(i)+\"_utbill.jpg\"\n",
    "    i = i+1\n",
    "    print(dst)\n",
    "    os.rename(src,dst)\n",
    "    "
   ]
  },
  {
   "cell_type": "code",
   "execution_count": null,
   "metadata": {
    "collapsed": true
   },
   "outputs": [],
   "source": []
  }
 ],
 "metadata": {
  "anaconda-cloud": {},
  "kernelspec": {
   "display_name": "Python [conda env:Anaconda3]",
   "language": "python",
   "name": "conda-env-Anaconda3-py"
  },
  "language_info": {
   "codemirror_mode": {
    "name": "ipython",
    "version": 3
   },
   "file_extension": ".py",
   "mimetype": "text/x-python",
   "name": "python",
   "nbconvert_exporter": "python",
   "pygments_lexer": "ipython3",
   "version": "3.5.5"
  }
 },
 "nbformat": 4,
 "nbformat_minor": 1
}
